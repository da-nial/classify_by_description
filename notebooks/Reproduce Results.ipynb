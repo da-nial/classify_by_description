{
 "cells": [
  {
   "cell_type": "code",
   "execution_count": 3,
   "id": "3eca28dd-b840-468d-b645-21cb2efde047",
   "metadata": {},
   "outputs": [
    {
     "name": "stdout",
     "output_type": "stream",
     "text": [
      "/home/danialz/Projects/classify_by_description_release\n",
      "attributes.txt\t\t   descriptor_strings.py    main.py\n",
      "cam.py\t\t\t   figs\t\t\t    notebooks\n",
      "cam_sims_average.csv\t   generate_descriptors.py  __pycache__\n",
      "cat.jpg\t\t\t   gradcam.py\t\t    pytorch_grad_cam\n",
      "cat_pillow_circled.jpg\t   imagenet_classes.txt     README.md\n",
      "classbydesc.yml\t\t   imagenet_classes.txt.1   res.csv\n",
      "class_counters.csv\t   label_encodings.pth\t    res_per_cls.csv\n",
      "data\t\t\t   loading_helpers.py\t    run_17611\n",
      "datasets.py\t\t   load.py\t\t    utils.py\n",
      "description_encodings.pth  main2.py\n",
      "descriptors\t\t   main3.py\n"
     ]
    }
   ],
   "source": [
    "%cd /home/danialz/Projects/classify_by_description_release\n",
    "!ls"
   ]
  },
  {
   "cell_type": "code",
   "execution_count": 26,
   "id": "66219435-749e-49d8-9446-72bbe8c088d9",
   "metadata": {},
   "outputs": [
    {
     "data": {
      "text/plain": [
       "<module 'main2' from '/home/danialz/Projects/classify_by_description_release/main2.py'>"
      ]
     },
     "execution_count": 26,
     "metadata": {},
     "output_type": "execute_result"
    }
   ],
   "source": [
    "import importlib\n",
    "import main2\n",
    "importlib.reload(main2)"
   ]
  },
  {
   "cell_type": "code",
   "execution_count": 27,
   "id": "844c6b43-8bab-422f-bc1d-9d705eb4ad07",
   "metadata": {},
   "outputs": [
    {
     "name": "stdout",
     "output_type": "stream",
     "text": [
      "{'model_size': 'ViT-B/32', 'dataset': 'cub', 'batch_size': 32, 'device': 'cuda', 'category_name_inclusion': 'prepend', 'apply_descriptor_modification': True, 'verbose': False, 'image_size': 224, 'before_text': '', 'label_before_text': '', 'between_text': ', ', 'after_text': '', 'label_after_text': '', 'unmodify': True, 'seed': 1, 'data_dir': PosixPath('data/cub'), 'descriptor_fname': './descriptors/descriptors_cub', 'n_classes': 200}\n",
      "Creating descriptors...\n",
      "\n",
      "Example description for class Black-footed Albatross: \"Black-footed Albatross, which is a seabird\"\n",
      "\n",
      "[('Black-footed Albatross', 0), ('Laysan Albatross', 1), ('Sooty Albatross', 2), ('Groove-billed Ani', 3), ('Crested Auklet', 4), ('Least Auklet', 5), ('Parakeet Auklet', 6), ('Rhinoceros Auklet', 7), ('Brewer Blackbird', 8), ('Red-winged Blackbird', 9)]\n",
      "Loading model...\n",
      "Encoding descriptions...\n",
      "Evaluating...\n"
     ]
    },
    {
     "name": "stderr",
     "output_type": "stream",
     "text": [
      "182it [00:06, 26.69it/s]"
     ]
    },
    {
     "name": "stdout",
     "output_type": "stream",
     "text": [
      "\n",
      "\n",
      "'Total CLIP-Standard Top-1 Accuracy: ': 51.933032274246216\n",
      "'Total CLIP-Standard Top-5 Accuracy: ': 82.58543610572815\n",
      "'Total Description-based Top-1 Accuracy: ': 53.08940410614014\n",
      "'Total Description-based Top-5 Accuracy: ': 84.16465520858765\n",
      "\n"
     ]
    },
    {
     "name": "stderr",
     "output_type": "stream",
     "text": [
      "\n"
     ]
    }
   ],
   "source": [
    "custom_hparams = {\n",
    "    'dataset': 'cub',\n",
    "    'model_size': 'ViT-B/32',\n",
    "}\n",
    "cub_vitb_res = main2.main(custom_hparams)"
   ]
  },
  {
   "cell_type": "code",
   "execution_count": 28,
   "id": "ceced3c9-4daf-422f-8000-e16d9b01f045",
   "metadata": {},
   "outputs": [
    {
     "name": "stdout",
     "output_type": "stream",
     "text": [
      "{'model_size': 'ViT-B/32', 'dataset': 'food101', 'batch_size': 32, 'device': 'cuda', 'category_name_inclusion': 'prepend', 'apply_descriptor_modification': True, 'verbose': False, 'image_size': 224, 'before_text': '', 'label_before_text': '', 'between_text': ', ', 'after_text': '', 'label_after_text': '', 'unmodify': True, 'seed': 1, 'data_dir': PosixPath('data/food101'), 'descriptor_fname': './descriptors/descriptors_food101', 'n_classes': 200}\n",
      "Creating descriptors...\n",
      "\n",
      "Example description for class apple pie: \"apple pie, which is a pie dish\"\n",
      "\n",
      "[('apple_pie', 0), ('baby_back_ribs', 1), ('baklava', 2), ('beef_carpaccio', 3), ('beef_tartare', 4), ('beet_salad', 5), ('beignets', 6), ('bibimbap', 7), ('bread_pudding', 8), ('breakfast_burrito', 9)]\n",
      "Loading model...\n",
      "Encoding descriptions...\n",
      "Evaluating...\n"
     ]
    },
    {
     "name": "stderr",
     "output_type": "stream",
     "text": [
      "790it [00:27, 29.13it/s]\n"
     ]
    },
    {
     "name": "stdout",
     "output_type": "stream",
     "text": [
      "\n",
      "\n",
      "'Total CLIP-Standard Top-1 Accuracy: ': 79.31089401245117\n",
      "'Total CLIP-Standard Top-5 Accuracy: ': 95.94455361366272\n",
      "'Total Description-based Top-1 Accuracy: ': 83.63168239593506\n",
      "'Total Description-based Top-5 Accuracy: ': 97.38416075706482\n",
      "\n"
     ]
    }
   ],
   "source": [
    "custom_hparams = {\n",
    "    'dataset': 'food101',\n",
    "    'model_size': 'ViT-B/32',\n",
    "}\n",
    "food101_vitb_res = main2.main(custom_hparams)"
   ]
  },
  {
   "cell_type": "code",
   "execution_count": 29,
   "id": "4fb87fa6-d67c-4a12-9f07-68395a4438b1",
   "metadata": {},
   "outputs": [
    {
     "name": "stdout",
     "output_type": "stream",
     "text": [
      "{'model_size': 'ViT-B/32', 'dataset': 'dtd', 'batch_size': 32, 'device': 'cuda', 'category_name_inclusion': 'prepend', 'apply_descriptor_modification': True, 'verbose': False, 'image_size': 224, 'before_text': '', 'label_before_text': '', 'between_text': ', ', 'after_text': '', 'label_after_text': '', 'unmodify': True, 'seed': 1, 'data_dir': PosixPath('data/dtd'), 'descriptor_fname': './descriptors/descriptors_dtd', 'n_classes': 101}\n",
      "Creating descriptors...\n",
      "\n",
      "Example description for class banded: \"banded, which is a repeating pattern of light and dark bands\"\n",
      "\n",
      "[('banded', 0), ('blotchy', 1), ('braided', 2), ('bubbly', 3), ('bumpy', 4), ('chequered', 5), ('cobwebbed', 6), ('cracked', 7), ('crosshatched', 8), ('crystalline', 9)]\n",
      "Loading model...\n",
      "Encoding descriptions...\n",
      "Evaluating...\n"
     ]
    },
    {
     "name": "stderr",
     "output_type": "stream",
     "text": [
      "59it [00:02, 21.62it/s]"
     ]
    },
    {
     "name": "stdout",
     "output_type": "stream",
     "text": [
      "\n",
      "\n",
      "'Total CLIP-Standard Top-1 Accuracy: ': 41.436171531677246\n",
      "'Total CLIP-Standard Top-5 Accuracy: ': 70.31915187835693\n",
      "'Total Description-based Top-1 Accuracy: ': 44.46808397769928\n",
      "'Total Description-based Top-5 Accuracy: ': 75.10638236999512\n",
      "\n"
     ]
    },
    {
     "name": "stderr",
     "output_type": "stream",
     "text": [
      "\n"
     ]
    }
   ],
   "source": [
    "custom_hparams = {\n",
    "    'dataset': 'dtd',\n",
    "    'model_size': 'ViT-B/32',\n",
    "}\n",
    "dtd_vitb_res = main2.main(custom_hparams)"
   ]
  },
  {
   "cell_type": "code",
   "execution_count": 30,
   "id": "bb3faf74-7243-42c3-8763-fdcd797ea6a8",
   "metadata": {},
   "outputs": [
    {
     "name": "stdout",
     "output_type": "stream",
     "text": [
      "{'model_size': 'ViT-B/32', 'dataset': 'pets', 'batch_size': 32, 'device': 'cuda', 'category_name_inclusion': 'prepend', 'apply_descriptor_modification': True, 'verbose': False, 'image_size': 224, 'before_text': '', 'label_before_text': '', 'between_text': ', ', 'after_text': '', 'label_after_text': '', 'unmodify': True, 'seed': 1, 'data_dir': PosixPath('data/pets'), 'descriptor_fname': './descriptors/descriptors_pets', 'n_classes': 47}\n",
      "Creating descriptors...\n",
      "\n",
      "Example description for class Abyssinian: \"Abyssinian, which has black, grey, or brown fur\"\n",
      "\n",
      "[('Abyssinian', 0), ('Bengal', 1), ('Birman', 2), ('Bombay', 3), ('British_Shorthair', 4), ('Egyptian_Mau', 5), ('Maine_Coon', 6), ('Persian', 7), ('Ragdoll', 8), ('Russian_Blue', 9)]\n",
      "Loading model...\n",
      "Encoding descriptions...\n",
      "Evaluating...\n"
     ]
    },
    {
     "name": "stderr",
     "output_type": "stream",
     "text": [
      "115it [00:04, 23.65it/s]"
     ]
    },
    {
     "name": "stdout",
     "output_type": "stream",
     "text": [
      "\n",
      "\n",
      "'Total CLIP-Standard Top-1 Accuracy: ': 79.94003891944885\n",
      "'Total CLIP-Standard Top-5 Accuracy: ': 96.32052183151245\n",
      "'Total Description-based Top-1 Accuracy: ': 83.45597982406616\n",
      "'Total Description-based Top-5 Accuracy: ': 99.04606342315674\n",
      "\n"
     ]
    },
    {
     "name": "stderr",
     "output_type": "stream",
     "text": [
      "\n"
     ]
    }
   ],
   "source": [
    "custom_hparams = {\n",
    "    'dataset': 'pets',\n",
    "    'model_size': 'ViT-B/32',\n",
    "}\n",
    "pets_vitb_res = main2.main(custom_hparams)"
   ]
  },
  {
   "cell_type": "code",
   "execution_count": null,
   "id": "fd76773a-d586-46f5-bb3b-379fd0e6cb53",
   "metadata": {},
   "outputs": [],
   "source": []
  }
 ],
 "metadata": {
  "kernelspec": {
   "display_name": "Python 3 (ipykernel)",
   "language": "python",
   "name": "python3"
  },
  "language_info": {
   "codemirror_mode": {
    "name": "ipython",
    "version": 3
   },
   "file_extension": ".py",
   "mimetype": "text/x-python",
   "name": "python",
   "nbconvert_exporter": "python",
   "pygments_lexer": "ipython3",
   "version": "3.8.18"
  }
 },
 "nbformat": 4,
 "nbformat_minor": 5
}
