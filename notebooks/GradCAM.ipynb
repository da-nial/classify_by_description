{
 "cells": [
  {
   "cell_type": "code",
   "execution_count": 3,
   "id": "666272ce-ee0e-4160-b855-6d8187631260",
   "metadata": {},
   "outputs": [
    {
     "name": "stdout",
     "output_type": "stream",
     "text": [
      "/home/danialz/Projects/classify_by_description_release\n",
      "attributes.txt\t\t   imagenet_classes.txt\n",
      "cam.py\t\t\t   imagenet_classes.txt.1\n",
      "cam_sims_average.csv\t   label_encodings.pth\n",
      "cat.jpg\t\t\t   loading_helpers.py\n",
      "cat_pillow_circled.jpg\t   load.py\n",
      "classbydesc.yml\t\t   main.py\n",
      "class_counters.csv\t   notebooks\n",
      "data\t\t\t   old_main.py\n",
      "datasets.py\t\t   __pycache__\n",
      "description_encodings.pth  pytorch_grad_cam\n",
      "descriptors\t\t   pytorch_grad_cam_wrapper.py\n",
      "descriptor_strings.py\t   README.md\n",
      "evaluate.py\t\t   res.csv\n",
      "evaluate_with_gradcam.py   res_per_cls.csv\n",
      "evaluate_with_scorecam.py  run_17611\n",
      "figs\t\t\t   scratch_grad_cam\n",
      "generate_descriptors.py    utils.py\n"
     ]
    }
   ],
   "source": [
    "%cd /home/danialz/Projects/classify_by_description_release\n",
    "!ls"
   ]
  },
  {
   "cell_type": "code",
   "execution_count": 4,
   "id": "cdd93bef-e6bf-488c-9b72-e518e0a0f3e8",
   "metadata": {},
   "outputs": [
    {
     "name": "stderr",
     "output_type": "stream",
     "text": [
      "/home/danialz/anaconda3/envs/minvis/lib/python3.8/site-packages/scipy/__init__.py:138: UserWarning: A NumPy version >=1.16.5 and <1.23.0 is required for this version of SciPy (detected version 1.24.4)\n",
      "  warnings.warn(f\"A NumPy version >={np_minversion} and <{np_maxversion} is required for this version of \"\n"
     ]
    },
    {
     "data": {
      "text/plain": [
       "<module 'main' from '/home/danialz/Projects/classify_by_description_release/main.py'>"
      ]
     },
     "execution_count": 4,
     "metadata": {},
     "output_type": "execute_result"
    }
   ],
   "source": [
    "import importlib\n",
    "import main\n",
    "importlib.reload(main)"
   ]
  },
  {
   "cell_type": "code",
   "execution_count": null,
   "id": "f37927ee-6015-493f-a6c8-dc756aa9a226",
   "metadata": {},
   "outputs": [
    {
     "name": "stdout",
     "output_type": "stream",
     "text": [
      "{'model_size': 'RN50', 'dataset': 'cub', 'batch_size': 4, 'device': 'cuda', 'category_name_inclusion': 'prepend', 'apply_descriptor_modification': True, 'verbose': False, 'image_size': 224, 'before_text': '', 'label_before_text': '', 'between_text': ', ', 'after_text': '', 'label_after_text': '', 'unmodify': True, 'seed': 1, 'data_dir': PosixPath('data/cub'), 'descriptor_fname': './descriptors/descriptors_cub'}\n",
      "Creating descriptors...\n",
      "\n",
      "Example description for class Black-footed Albatross: \"Black-footed Albatross, which is a seabird\"\n",
      "\n",
      "[('Black-footed Albatross', 0), ('Laysan Albatross', 1), ('Sooty Albatross', 2), ('Groove-billed Ani', 3), ('Crested Auklet', 4), ('Least Auklet', 5), ('Parakeet Auklet', 6), ('Rhinoceros Auklet', 7), ('Brewer Blackbird', 8), ('Red-winged Blackbird', 9)]\n",
      "Loading model...\n",
      "Encoding descriptions...\n",
      "Evaluating...\n"
     ]
    },
    {
     "name": "stderr",
     "output_type": "stream",
     "text": [
      "291it [3:12:24, 39.72s/it]"
     ]
    }
   ],
   "source": [
    "custom_hparams = {\n",
    "    'dataset': 'cub',\n",
    "    'model_size': 'RN50',\n",
    "    'batch_size': 4,\n",
    "}\n",
    "cub_resnet_res = main.main(custom_hparams)"
   ]
  },
  {
   "cell_type": "code",
   "execution_count": null,
   "id": "c734bed8-d8d5-44cd-9f4b-723026d8a862",
   "metadata": {},
   "outputs": [],
   "source": []
  }
 ],
 "metadata": {
  "kernelspec": {
   "display_name": "Python 3 (ipykernel)",
   "language": "python",
   "name": "python3"
  },
  "language_info": {
   "codemirror_mode": {
    "name": "ipython",
    "version": 3
   },
   "file_extension": ".py",
   "mimetype": "text/x-python",
   "name": "python",
   "nbconvert_exporter": "python",
   "pygments_lexer": "ipython3",
   "version": "3.8.18"
  }
 },
 "nbformat": 4,
 "nbformat_minor": 5
}
